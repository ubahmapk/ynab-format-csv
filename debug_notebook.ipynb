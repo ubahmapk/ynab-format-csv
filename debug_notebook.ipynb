{
 "cells": [
  {
   "cell_type": "code",
   "execution_count": 1,
   "metadata": {},
   "outputs": [],
   "source": [
    "from pathlib import Path\n",
    "\n",
    "import pandas as pd\n",
    "\n",
    "from ynab_format_csv.fileio import (\n",
    "    read_csv_transaction_file,\n",
    ")"
   ]
  },
  {
   "cell_type": "code",
   "execution_count": 19,
   "metadata": {},
   "outputs": [],
   "source": [
    "csv_file = Path(\"resources/CapitalOne-Transactions.csv\")"
   ]
  },
  {
   "cell_type": "code",
   "execution_count": 20,
   "metadata": {},
   "outputs": [
    {
     "data": {
      "text/html": [
       "<div>\n",
       "<style scoped>\n",
       "    .dataframe tbody tr th:only-of-type {\n",
       "        vertical-align: middle;\n",
       "    }\n",
       "\n",
       "    .dataframe tbody tr th {\n",
       "        vertical-align: top;\n",
       "    }\n",
       "\n",
       "    .dataframe thead th {\n",
       "        text-align: right;\n",
       "    }\n",
       "</style>\n",
       "<table border=\"1\" class=\"dataframe\">\n",
       "  <thead>\n",
       "    <tr style=\"text-align: right;\">\n",
       "      <th></th>\n",
       "      <th>Account Number</th>\n",
       "      <th>Transaction Description</th>\n",
       "      <th>Transaction Date</th>\n",
       "      <th>Transaction Type</th>\n",
       "      <th>Transaction Amount</th>\n",
       "      <th>Balance</th>\n",
       "    </tr>\n",
       "  </thead>\n",
       "  <tbody>\n",
       "    <tr>\n",
       "      <th>0</th>\n",
       "      <td>238</td>\n",
       "      <td>Purchase at Grocery Store</td>\n",
       "      <td>11/04/24</td>\n",
       "      <td>Debit</td>\n",
       "      <td>50.0</td>\n",
       "      <td>15000.0</td>\n",
       "    </tr>\n",
       "    <tr>\n",
       "      <th>1</th>\n",
       "      <td>238</td>\n",
       "      <td>Online Subscription Payment</td>\n",
       "      <td>11/04/24</td>\n",
       "      <td>Debit</td>\n",
       "      <td>15.0</td>\n",
       "      <td>15050.0</td>\n",
       "    </tr>\n",
       "    <tr>\n",
       "      <th>2</th>\n",
       "      <td>238</td>\n",
       "      <td>ATM Withdrawal</td>\n",
       "      <td>11/04/24</td>\n",
       "      <td>Debit</td>\n",
       "      <td>100.0</td>\n",
       "      <td>15065.0</td>\n",
       "    </tr>\n",
       "    <tr>\n",
       "      <th>3</th>\n",
       "      <td>238</td>\n",
       "      <td>Salary Deposit</td>\n",
       "      <td>11/04/24</td>\n",
       "      <td>Credit</td>\n",
       "      <td>2000.0</td>\n",
       "      <td>15165.0</td>\n",
       "    </tr>\n",
       "    <tr>\n",
       "      <th>4</th>\n",
       "      <td>238</td>\n",
       "      <td>Utility Bill Payment</td>\n",
       "      <td>11/04/24</td>\n",
       "      <td>Debit</td>\n",
       "      <td>75.0</td>\n",
       "      <td>17165.0</td>\n",
       "    </tr>\n",
       "    <tr>\n",
       "      <th>5</th>\n",
       "      <td>238</td>\n",
       "      <td>Restaurant Payment</td>\n",
       "      <td>11/04/24</td>\n",
       "      <td>Debit</td>\n",
       "      <td>45.0</td>\n",
       "      <td>17240.0</td>\n",
       "    </tr>\n",
       "    <tr>\n",
       "      <th>6</th>\n",
       "      <td>238</td>\n",
       "      <td>Online Shopping</td>\n",
       "      <td>11/04/24</td>\n",
       "      <td>Debit</td>\n",
       "      <td>120.0</td>\n",
       "      <td>17285.0</td>\n",
       "    </tr>\n",
       "    <tr>\n",
       "      <th>7</th>\n",
       "      <td>238</td>\n",
       "      <td>Transfer to Savings</td>\n",
       "      <td>11/04/24</td>\n",
       "      <td>Debit</td>\n",
       "      <td>500.0</td>\n",
       "      <td>17405.0</td>\n",
       "    </tr>\n",
       "    <tr>\n",
       "      <th>8</th>\n",
       "      <td>238</td>\n",
       "      <td>Refund from Store</td>\n",
       "      <td>11/04/24</td>\n",
       "      <td>Credit</td>\n",
       "      <td>30.0</td>\n",
       "      <td>17905.0</td>\n",
       "    </tr>\n",
       "    <tr>\n",
       "      <th>9</th>\n",
       "      <td>238</td>\n",
       "      <td>Gas Station Payment</td>\n",
       "      <td>11/04/24</td>\n",
       "      <td>Debit</td>\n",
       "      <td>40.0</td>\n",
       "      <td>17875.0</td>\n",
       "    </tr>\n",
       "  </tbody>\n",
       "</table>\n",
       "</div>"
      ],
      "text/plain": [
       "   Account Number      Transaction Description Transaction Date  \\\n",
       "0             238    Purchase at Grocery Store         11/04/24   \n",
       "1             238  Online Subscription Payment         11/04/24   \n",
       "2             238               ATM Withdrawal         11/04/24   \n",
       "3             238               Salary Deposit         11/04/24   \n",
       "4             238         Utility Bill Payment         11/04/24   \n",
       "5             238           Restaurant Payment         11/04/24   \n",
       "6             238              Online Shopping         11/04/24   \n",
       "7             238          Transfer to Savings         11/04/24   \n",
       "8             238            Refund from Store         11/04/24   \n",
       "9             238          Gas Station Payment         11/04/24   \n",
       "\n",
       "  Transaction Type  Transaction Amount  Balance  \n",
       "0            Debit                50.0  15000.0  \n",
       "1            Debit                15.0  15050.0  \n",
       "2            Debit               100.0  15065.0  \n",
       "3           Credit              2000.0  15165.0  \n",
       "4            Debit                75.0  17165.0  \n",
       "5            Debit                45.0  17240.0  \n",
       "6            Debit               120.0  17285.0  \n",
       "7            Debit               500.0  17405.0  \n",
       "8           Credit                30.0  17905.0  \n",
       "9            Debit                40.0  17875.0  "
      ]
     },
     "execution_count": 20,
     "metadata": {},
     "output_type": "execute_result"
    }
   ],
   "source": [
    "df: pd.DataFrame = read_csv_transaction_file(csv_file)\n",
    "df"
   ]
  },
  {
   "cell_type": "code",
   "execution_count": 14,
   "metadata": {},
   "outputs": [
    {
     "name": "stdout",
     "output_type": "stream",
     "text": [
      "0 Trans. Date\n",
      "<class 'str'>\n",
      "object\n",
      "1 Post Date\n",
      "<class 'str'>\n",
      "object\n",
      "2 Description\n",
      "<class 'str'>\n",
      "object\n",
      "3 Amount\n",
      "<class 'str'>\n",
      "object\n",
      "4 Category\n",
      "<class 'str'>\n",
      "object\n"
     ]
    }
   ],
   "source": [
    "for num, val in enumerate(df.columns.tolist()):\n",
    "    print(num, val)\n",
    "    print(type(val))\n",
    "\n",
    "    # Print the pandas datatype of the current column\n",
    "    print(df.iloc[num].dtype)"
   ]
  },
  {
   "cell_type": "code",
   "execution_count": 21,
   "metadata": {},
   "outputs": [
    {
     "name": "stdout",
     "output_type": "stream",
     "text": [
      "['Transaction Amount', 'Balance']\n"
     ]
    }
   ],
   "source": [
    "float_columns = [col for col in df.columns if df[col].dtype == \"float64\"]\n",
    "print(float_columns)"
   ]
  },
  {
   "cell_type": "code",
   "execution_count": 27,
   "metadata": {},
   "outputs": [
    {
     "name": "stdout",
     "output_type": "stream",
     "text": [
      "1\n"
     ]
    }
   ],
   "source": [
    "value: int = 1.999999\n",
    "print(int(value))"
   ]
  }
 ],
 "metadata": {
  "kernelspec": {
   "display_name": ".venv",
   "language": "python",
   "name": "python3"
  },
  "language_info": {
   "codemirror_mode": {
    "name": "ipython",
    "version": 3
   },
   "file_extension": ".py",
   "mimetype": "text/x-python",
   "name": "python",
   "nbconvert_exporter": "python",
   "pygments_lexer": "ipython3",
   "version": "3.12.2"
  }
 },
 "nbformat": 4,
 "nbformat_minor": 2
}
